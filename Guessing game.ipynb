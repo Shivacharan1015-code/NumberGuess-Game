{
 "cells": [
  {
   "cell_type": "code",
   "execution_count": 1,
   "metadata": {},
   "outputs": [
    {
     "name": "stdout",
     "output_type": "stream",
     "text": [
      "Enter your number89\n",
      "WARM\n",
      "Enter your number again90\n",
      "COLDER\n",
      "Enter your number again85\n",
      "WARMER\n",
      "Enter your number again83\n",
      "WARMER\n",
      "you got the correct answer 83 in 4 guess/es\n"
     ]
    }
   ],
   "source": [
    "from random import randint\n",
    "a=randint(1,100)\n",
    "c=int(a-10)\n",
    "d=int(a+10)\n",
    "e=int(0)\n",
    "guess=1\n",
    "#print(a)\n",
    "b=int(input(\"Enter your number\"))\n",
    "if a==b:\n",
    "    print(\"Congragulations!!! You got it in the first try\")\n",
    "if b>100 or b<1:\n",
    "    print(\"OUT OF BOUNDS\")\n",
    "elif b>c and b<d:\n",
    "    print(\"WARM\")\n",
    "    e=int(a-b)\n",
    "else:\n",
    "    print(\"COLD\")\n",
    "    e=int(a-b)\n",
    "if e<0:\n",
    "    e=e*(-1)\n",
    "while a!=b:\n",
    "    b=int(input(\"Enter your number again\"))\n",
    "    f=int(b-a)\n",
    "    if f<0:\n",
    "        f=f*(-1)\n",
    "    if f<e and f-e!=0:\n",
    "        print(\"WARMER\")\n",
    "    else:\n",
    "        print(\"COLDER\")\n",
    "    e=f\n",
    "    guess+=1\n",
    "if a==b:\n",
    "    print(\"you got the correct answer {0} in {1} guesses\".format(a,guess))\n",
    "\n",
    "          \n",
    "    \n",
    "    \n"
   ]
  },
  {
   "cell_type": "code",
   "execution_count": null,
   "metadata": {},
   "outputs": [],
   "source": []
  },
  {
   "cell_type": "code",
   "execution_count": null,
   "metadata": {},
   "outputs": [],
   "source": []
  }
 ],
 "metadata": {
  "kernelspec": {
   "display_name": "Python 3",
   "language": "python",
   "name": "python3"
  },
  "language_info": {
   "codemirror_mode": {
    "name": "ipython",
    "version": 3
   },
   "file_extension": ".py",
   "mimetype": "text/x-python",
   "name": "python",
   "nbconvert_exporter": "python",
   "pygments_lexer": "ipython3",
   "version": "3.7.6"
  }
 },
 "nbformat": 4,
 "nbformat_minor": 4
}
